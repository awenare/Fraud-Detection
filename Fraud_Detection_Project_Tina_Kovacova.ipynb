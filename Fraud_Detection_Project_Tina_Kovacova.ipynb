{
  "nbformat": 4,
  "nbformat_minor": 0,
  "metadata": {
    "colab": {
      "name": "Fraud Detection Project - Tina Kovacova.ipynb",
      "version": "0.3.2",
      "provenance": [],
      "include_colab_link": true
    },
    "kernelspec": {
      "name": "python3",
      "display_name": "Python 3"
    }
  },
  "cells": [
    {
      "cell_type": "markdown",
      "metadata": {
        "id": "view-in-github",
        "colab_type": "text"
      },
      "source": [
        "[View in Colaboratory](https://colab.research.google.com/github/awenare/Fraud-Detection/blob/master/Fraud_Detection_Project_Tina_Kovacova.ipynb)"
      ]
    },
    {
      "metadata": {
        "id": "CyXVRumJtMgh",
        "colab_type": "text"
      },
      "cell_type": "markdown",
      "source": [
        "## Click Fraud Detection - Talking Data\n",
        "\n",
        "**OVERVIEW: **\n",
        "\n",
        "The objective is to predict whether a user will download an app after clicking a mobile app advertisement, as well as to discover fradulent clicks on ads. \n",
        "\n",
        "TalkingData, China’s largest independent big data service platform, covers over **70% of active mobile devices nationwide**. They handle **3 billion clicks per day, of which 90% are potentially fraudulent**. Their current approach to prevent click fraud for app developers is to **measure the journey of a user’s click across their portfolio, and flag IP addresses who produce lots of clicks, but never end up installing apps**. With this information, they've built an IP blacklist and device blacklist.\n",
        "\n",
        "Methodology for Kaggle competition: [Area under the ROC Curve](https://en.wikipedia.org/wiki/Receiver_operating_characteristic)\n",
        "\n",
        "<br>\n",
        "\n",
        "**FINDINGS: **\n",
        "\n",
        "\n",
        "*   Out of the 100,000 samples in the test file, only 34,857 IP addresses are unique\n",
        "*   The list contains 161 apps installed on 100 types of devices using 130 different OS variants\n",
        "\n",
        "\n",
        "<br>\n",
        "\n",
        "\n",
        "\n",
        "**ISSUE TRACKER: **\n",
        "\n",
        "✅ GitHub limits file upload to 100MB\n",
        "\n",
        "✅ Git push/pull issues\n",
        "\n",
        "⚠️ How to import dataset directly from HDD to colab?\n",
        "\n",
        "⚠️ Upload to Google Drive (see old tutorials) for the 7+ GB full training data file\n",
        "\n",
        "⚠️ How to do sorted count of the data by columns?\n",
        "\n",
        "⚠️ Visualization for the data with no categorical labels (i.e. app name, device type, OS)\n",
        "\n",
        "⚠️ \n",
        "\n",
        "\n",
        "\n",
        "📌 STRETCH: Process this in Spark"
      ]
    },
    {
      "metadata": {
        "id": "rGBA4ngXxJL_",
        "colab_type": "text"
      },
      "cell_type": "markdown",
      "source": [
        "### I. Loading the Dataset & Treating Data"
      ]
    },
    {
      "metadata": {
        "id": "cqCWu4IR2_Mq",
        "colab_type": "code",
        "colab": {}
      },
      "cell_type": "code",
      "source": [
        "import numpy as np\n",
        "import pandas as pd\n",
        "import seaborn as sns\n",
        "import matplotlib.pyplot as plt"
      ],
      "execution_count": 0,
      "outputs": []
    },
    {
      "metadata": {
        "id": "UHmNlT48tEzu",
        "colab_type": "code",
        "colab": {}
      },
      "cell_type": "code",
      "source": [
        "data_sample = pd.read_csv('https://raw.githubusercontent.com/awenare/Fraud-Detection/master/train_sample.csv', index_col=None)"
      ],
      "execution_count": 0,
      "outputs": []
    },
    {
      "metadata": {
        "id": "pfplSiDwGSsd",
        "colab_type": "code",
        "colab": {
          "base_uri": "https://localhost:8080/",
          "height": 204
        },
        "outputId": "e75921a1-1da9-49d3-9d51-3708903a48b5"
      },
      "cell_type": "code",
      "source": [
        "data_sample.head(5)"
      ],
      "execution_count": 3,
      "outputs": [
        {
          "output_type": "execute_result",
          "data": {
            "text/html": [
              "<div>\n",
              "<style scoped>\n",
              "    .dataframe tbody tr th:only-of-type {\n",
              "        vertical-align: middle;\n",
              "    }\n",
              "\n",
              "    .dataframe tbody tr th {\n",
              "        vertical-align: top;\n",
              "    }\n",
              "\n",
              "    .dataframe thead th {\n",
              "        text-align: right;\n",
              "    }\n",
              "</style>\n",
              "<table border=\"1\" class=\"dataframe\">\n",
              "  <thead>\n",
              "    <tr style=\"text-align: right;\">\n",
              "      <th></th>\n",
              "      <th>ip</th>\n",
              "      <th>app</th>\n",
              "      <th>device</th>\n",
              "      <th>os</th>\n",
              "      <th>channel</th>\n",
              "      <th>click_time</th>\n",
              "      <th>attributed_time</th>\n",
              "      <th>is_attributed</th>\n",
              "    </tr>\n",
              "  </thead>\n",
              "  <tbody>\n",
              "    <tr>\n",
              "      <th>0</th>\n",
              "      <td>87540</td>\n",
              "      <td>12</td>\n",
              "      <td>1</td>\n",
              "      <td>13</td>\n",
              "      <td>497</td>\n",
              "      <td>2017-11-07 09:30:38</td>\n",
              "      <td>NaN</td>\n",
              "      <td>0</td>\n",
              "    </tr>\n",
              "    <tr>\n",
              "      <th>1</th>\n",
              "      <td>105560</td>\n",
              "      <td>25</td>\n",
              "      <td>1</td>\n",
              "      <td>17</td>\n",
              "      <td>259</td>\n",
              "      <td>2017-11-07 13:40:27</td>\n",
              "      <td>NaN</td>\n",
              "      <td>0</td>\n",
              "    </tr>\n",
              "    <tr>\n",
              "      <th>2</th>\n",
              "      <td>101424</td>\n",
              "      <td>12</td>\n",
              "      <td>1</td>\n",
              "      <td>19</td>\n",
              "      <td>212</td>\n",
              "      <td>2017-11-07 18:05:24</td>\n",
              "      <td>NaN</td>\n",
              "      <td>0</td>\n",
              "    </tr>\n",
              "    <tr>\n",
              "      <th>3</th>\n",
              "      <td>94584</td>\n",
              "      <td>13</td>\n",
              "      <td>1</td>\n",
              "      <td>13</td>\n",
              "      <td>477</td>\n",
              "      <td>2017-11-07 04:58:08</td>\n",
              "      <td>NaN</td>\n",
              "      <td>0</td>\n",
              "    </tr>\n",
              "    <tr>\n",
              "      <th>4</th>\n",
              "      <td>68413</td>\n",
              "      <td>12</td>\n",
              "      <td>1</td>\n",
              "      <td>1</td>\n",
              "      <td>178</td>\n",
              "      <td>2017-11-09 09:00:09</td>\n",
              "      <td>NaN</td>\n",
              "      <td>0</td>\n",
              "    </tr>\n",
              "  </tbody>\n",
              "</table>\n",
              "</div>"
            ],
            "text/plain": [
              "       ip  app  device  os  channel           click_time attributed_time  \\\n",
              "0   87540   12       1  13      497  2017-11-07 09:30:38             NaN   \n",
              "1  105560   25       1  17      259  2017-11-07 13:40:27             NaN   \n",
              "2  101424   12       1  19      212  2017-11-07 18:05:24             NaN   \n",
              "3   94584   13       1  13      477  2017-11-07 04:58:08             NaN   \n",
              "4   68413   12       1   1      178  2017-11-09 09:00:09             NaN   \n",
              "\n",
              "   is_attributed  \n",
              "0              0  \n",
              "1              0  \n",
              "2              0  \n",
              "3              0  \n",
              "4              0  "
            ]
          },
          "metadata": {
            "tags": []
          },
          "execution_count": 3
        }
      ]
    },
    {
      "metadata": {
        "id": "_J_m2fHNGfmZ",
        "colab_type": "code",
        "colab": {
          "base_uri": "https://localhost:8080/",
          "height": 34
        },
        "outputId": "aa1eb6c2-9116-459a-d8b6-8cd616536611"
      },
      "cell_type": "code",
      "source": [
        "data_sample.shape"
      ],
      "execution_count": 4,
      "outputs": [
        {
          "output_type": "execute_result",
          "data": {
            "text/plain": [
              "(100000, 8)"
            ]
          },
          "metadata": {
            "tags": []
          },
          "execution_count": 4
        }
      ]
    },
    {
      "metadata": {
        "id": "nGZUNji1Ha2E",
        "colab_type": "text"
      },
      "cell_type": "markdown",
      "source": [
        "#### Data Cleanup"
      ]
    },
    {
      "metadata": {
        "id": "WVTzHp7GHdWl",
        "colab_type": "code",
        "colab": {
          "base_uri": "https://localhost:8080/",
          "height": 190
        },
        "outputId": "09757a59-d2b1-497d-9c7f-5bdfcf49a6c3"
      },
      "cell_type": "code",
      "source": [
        "# Identifying NaNs\n",
        "\n",
        "pd.isnull(data_sample).sum()\n"
      ],
      "execution_count": 5,
      "outputs": [
        {
          "output_type": "execute_result",
          "data": {
            "text/plain": [
              "ip                     0\n",
              "app                    0\n",
              "device                 0\n",
              "os                     0\n",
              "channel                0\n",
              "click_time             0\n",
              "attributed_time    99773\n",
              "is_attributed          0\n",
              "dtype: int64"
            ]
          },
          "metadata": {
            "tags": []
          },
          "execution_count": 5
        }
      ]
    },
    {
      "metadata": {
        "id": "N9XrDrdPtMDy",
        "colab_type": "code",
        "colab": {
          "base_uri": "https://localhost:8080/",
          "height": 54
        },
        "outputId": "44cf1b0c-d970-40bc-80c9-c9acea684381"
      },
      "cell_type": "code",
      "source": [
        "# ⬇️ refactor with a pretty FOR loop?\n",
        "\n",
        "pd.unique(data_sample['ip']).shape"
      ],
      "execution_count": 6,
      "outputs": [
        {
          "output_type": "execute_result",
          "data": {
            "text/plain": [
              "(34857,)"
            ]
          },
          "metadata": {
            "tags": []
          },
          "execution_count": 6
        }
      ]
    },
    {
      "metadata": {
        "id": "E65Gb7A9Qf1r",
        "colab_type": "code",
        "colab": {
          "base_uri": "https://localhost:8080/",
          "height": 54
        },
        "outputId": "7fad31ed-fab6-4189-e20f-93351b002146"
      },
      "cell_type": "code",
      "source": [
        "pd.unique(data_sample['app']).shape"
      ],
      "execution_count": 7,
      "outputs": [
        {
          "output_type": "execute_result",
          "data": {
            "text/plain": [
              "(161,)"
            ]
          },
          "metadata": {
            "tags": []
          },
          "execution_count": 7
        }
      ]
    },
    {
      "metadata": {
        "id": "5dxEOZ2sQp19",
        "colab_type": "code",
        "colab": {
          "base_uri": "https://localhost:8080/",
          "height": 54
        },
        "outputId": "f78849f0-fcef-4a86-ee57-e68ea95b3b7b"
      },
      "cell_type": "code",
      "source": [
        "pd.unique(data_sample['device']).shape"
      ],
      "execution_count": 8,
      "outputs": [
        {
          "output_type": "execute_result",
          "data": {
            "text/plain": [
              "(100,)"
            ]
          },
          "metadata": {
            "tags": []
          },
          "execution_count": 8
        }
      ]
    },
    {
      "metadata": {
        "id": "0dX6exUPQsjI",
        "colab_type": "code",
        "colab": {
          "base_uri": "https://localhost:8080/",
          "height": 54
        },
        "outputId": "b08f0d86-754a-4d4f-a73e-c61034104110"
      },
      "cell_type": "code",
      "source": [
        "pd.unique(data_sample['os']).shape"
      ],
      "execution_count": 9,
      "outputs": [
        {
          "output_type": "execute_result",
          "data": {
            "text/plain": [
              "(130,)"
            ]
          },
          "metadata": {
            "tags": []
          },
          "execution_count": 9
        }
      ]
    },
    {
      "metadata": {
        "id": "CCr-FssvQwIR",
        "colab_type": "code",
        "colab": {
          "base_uri": "https://localhost:8080/",
          "height": 54
        },
        "outputId": "b59076aa-8bb0-48a0-bd51-e0530b9c90ea"
      },
      "cell_type": "code",
      "source": [
        "pd.unique(data_sample['channel']).shape"
      ],
      "execution_count": 10,
      "outputs": [
        {
          "output_type": "execute_result",
          "data": {
            "text/plain": [
              "(161,)"
            ]
          },
          "metadata": {
            "tags": []
          },
          "execution_count": 10
        }
      ]
    },
    {
      "metadata": {
        "id": "J1QI7uxXQ42T",
        "colab_type": "code",
        "colab": {
          "base_uri": "https://localhost:8080/",
          "height": 54
        },
        "outputId": "41e2a7ef-a193-44b0-f1cd-5c2f3458b57a"
      },
      "cell_type": "code",
      "source": [
        "# Click time may or may not be potentially useful\n",
        "\n",
        "pd.unique(data_sample['click_time']).shape"
      ],
      "execution_count": 11,
      "outputs": [
        {
          "output_type": "execute_result",
          "data": {
            "text/plain": [
              "(80350,)"
            ]
          },
          "metadata": {
            "tags": []
          },
          "execution_count": 11
        }
      ]
    },
    {
      "metadata": {
        "id": "d2T-eEQODrhj",
        "colab_type": "code",
        "colab": {}
      },
      "cell_type": "code",
      "source": [
        "# sns.pairplot(data_sample)"
      ],
      "execution_count": 0,
      "outputs": []
    },
    {
      "metadata": {
        "id": "q5hmmR_VDbuZ",
        "colab_type": "code",
        "colab": {
          "base_uri": "https://localhost:8080/",
          "height": 54
        },
        "outputId": "07cf649a-aab5-4acd-902c-b4619e56c780"
      },
      "cell_type": "code",
      "source": [
        "print(data_sample['os'].duplicated().sum())"
      ],
      "execution_count": 13,
      "outputs": [
        {
          "output_type": "stream",
          "text": [
            "99870\n"
          ],
          "name": "stdout"
        }
      ]
    },
    {
      "metadata": {
        "id": "VOuJTWF3z4DJ",
        "colab_type": "text"
      },
      "cell_type": "markdown",
      "source": [
        "### II. Fitting Initial Baseline Model"
      ]
    },
    {
      "metadata": {
        "id": "8yMUD1wfPuxV",
        "colab_type": "code",
        "colab": {}
      },
      "cell_type": "code",
      "source": [
        "# Logistic Regression\n",
        "\n",
        "from sklearn.linear_model import LogisticRegression\n",
        "from sklearn.model_selection import train_test_split\n",
        "\n",
        "X = data_sample[['app','os', 'channel']].as_matrix() \n",
        "# print(X)\n",
        "Y = data_sample['is_attributed'].values  #.unique() # How to count them?\n",
        "# print(Y)"
      ],
      "execution_count": 0,
      "outputs": []
    },
    {
      "metadata": {
        "id": "WU5LAydtJ1-z",
        "colab_type": "code",
        "colab": {
          "base_uri": "https://localhost:8080/",
          "height": 51
        },
        "outputId": "abf3fed8-4015-4ab9-91ab-18aa8de1cd8f"
      },
      "cell_type": "code",
      "source": [
        "X_train, X_test, y_train, y_test = train_test_split(X, Y, test_size=0.3, random_state=42)\n",
        "\n",
        "log_reg = LogisticRegression()\n",
        "model = log_reg.fit(X_train, y_train)\n",
        "\n",
        "# Accuracy Scores\n",
        "print('Accuracy on the training: {:.3f}'.format(model.score(X_train, y_train)))\n",
        "print('Accuracy on the testing subset: {:.3f}'.format(model.score(X_test, y_test)))"
      ],
      "execution_count": 39,
      "outputs": [
        {
          "output_type": "stream",
          "text": [
            "Accuracy on the training: 0.998\n",
            "Accuracy on the testing subset: 0.997\n"
          ],
          "name": "stdout"
        }
      ]
    },
    {
      "metadata": {
        "id": "J5KzGKQzDQm-",
        "colab_type": "code",
        "colab": {}
      },
      "cell_type": "code",
      "source": [
        "# PyPlot Graph "
      ],
      "execution_count": 0,
      "outputs": []
    },
    {
      "metadata": {
        "id": "HRHfyzp1z8gf",
        "colab_type": "text"
      },
      "cell_type": "markdown",
      "source": [
        "### III. Models Comparison\n",
        "\n",
        "The main models examined in this case will be\n",
        "\n",
        "* RKDE: Robust Kernel Density Estimation\n",
        "* OCSVM: One Class SVM\n",
        "* LOF: Local Outlier Factor\n",
        "* IFOR: Isolation Forest\n",
        "\n",
        "\n",
        "\n"
      ]
    },
    {
      "metadata": {
        "id": "zVWQrMooVXUP",
        "colab_type": "text"
      },
      "cell_type": "markdown",
      "source": [
        "#### RKDE: Robust Kernel Density Estimation"
      ]
    },
    {
      "metadata": {
        "id": "YwJuhvO3Vmfr",
        "colab_type": "code",
        "colab": {}
      },
      "cell_type": "code",
      "source": [
        ""
      ],
      "execution_count": 0,
      "outputs": []
    },
    {
      "metadata": {
        "id": "LYioiQnnVXnA",
        "colab_type": "text"
      },
      "cell_type": "markdown",
      "source": [
        "#### OCSVM: One Class SVM"
      ]
    },
    {
      "metadata": {
        "id": "zngA0vPTVogx",
        "colab_type": "code",
        "colab": {}
      },
      "cell_type": "code",
      "source": [
        ""
      ],
      "execution_count": 0,
      "outputs": []
    },
    {
      "metadata": {
        "id": "IVaHTJKbVX0v",
        "colab_type": "text"
      },
      "cell_type": "markdown",
      "source": [
        "#### LOF: Local Outlier Factor"
      ]
    },
    {
      "metadata": {
        "id": "rrsvM58hVpwr",
        "colab_type": "code",
        "colab": {}
      },
      "cell_type": "code",
      "source": [
        ""
      ],
      "execution_count": 0,
      "outputs": []
    },
    {
      "metadata": {
        "id": "YJB-fd6aVYE1",
        "colab_type": "text"
      },
      "cell_type": "markdown",
      "source": [
        "#### IFOR: Isolation Forest"
      ]
    },
    {
      "metadata": {
        "id": "7XGb9mUm0Che",
        "colab_type": "code",
        "colab": {}
      },
      "cell_type": "code",
      "source": [
        ""
      ],
      "execution_count": 0,
      "outputs": []
    },
    {
      "metadata": {
        "id": "9APIEEzR0C0D",
        "colab_type": "text"
      },
      "cell_type": "markdown",
      "source": [
        "### IV. Model Application"
      ]
    },
    {
      "metadata": {
        "id": "TAZPxuVD0DFT",
        "colab_type": "code",
        "colab": {}
      },
      "cell_type": "code",
      "source": [
        ""
      ],
      "execution_count": 0,
      "outputs": []
    },
    {
      "metadata": {
        "id": "x5UkQfY70DYl",
        "colab_type": "text"
      },
      "cell_type": "markdown",
      "source": [
        "### V. Complete and Validated Analysis\n"
      ]
    },
    {
      "metadata": {
        "id": "y3JPWRn-0V0A",
        "colab_type": "code",
        "colab": {}
      },
      "cell_type": "code",
      "source": [
        ""
      ],
      "execution_count": 0,
      "outputs": []
    },
    {
      "metadata": {
        "id": "LqqmMZPw0V8h",
        "colab_type": "text"
      },
      "cell_type": "markdown",
      "source": [
        "### VI. Data Visualization"
      ]
    },
    {
      "metadata": {
        "id": "pJezHP800Z6Z",
        "colab_type": "code",
        "colab": {}
      },
      "cell_type": "code",
      "source": [
        ""
      ],
      "execution_count": 0,
      "outputs": []
    }
  ]
}