{
  "nbformat": 4,
  "nbformat_minor": 0,
  "metadata": {
    "colab": {
      "name": "Fraud Detection Project - Tina Kovacova.ipynb",
      "version": "0.3.2",
      "provenance": [],
      "include_colab_link": true
    },
    "kernelspec": {
      "name": "python3",
      "display_name": "Python 3"
    }
  },
  "cells": [
    {
      "cell_type": "markdown",
      "metadata": {
        "id": "view-in-github",
        "colab_type": "text"
      },
      "source": [
        "[View in Colaboratory](https://colab.research.google.com/github/awenare/Fraud-Detection/blob/master/Fraud_Detection_Project_Tina_Kovacova.ipynb)"
      ]
    },
    {
      "metadata": {
        "id": "CyXVRumJtMgh",
        "colab_type": "text"
      },
      "cell_type": "markdown",
      "source": [
        "## Fraud Detection - Talking Data\n",
        "\n",
        "**Executive Summary: **\n",
        "\n",
        "\n",
        "\n",
        "**Findings: **\n"
      ]
    },
    {
      "metadata": {
        "id": "rGBA4ngXxJL_",
        "colab_type": "text"
      },
      "cell_type": "markdown",
      "source": [
        "### I. Loading the Dataset & Treating Data"
      ]
    },
    {
      "metadata": {
        "id": "UHmNlT48tEzu",
        "colab_type": "code",
        "colab": {}
      },
      "cell_type": "code",
      "source": [
        ""
      ],
      "execution_count": 0,
      "outputs": []
    },
    {
      "metadata": {
        "id": "VOuJTWF3z4DJ",
        "colab_type": "text"
      },
      "cell_type": "markdown",
      "source": [
        "### II. Fitting Initial Baseline Model"
      ]
    },
    {
      "metadata": {
        "id": "N9XrDrdPtMDy",
        "colab_type": "code",
        "colab": {}
      },
      "cell_type": "code",
      "source": [
        ""
      ],
      "execution_count": 0,
      "outputs": []
    },
    {
      "metadata": {
        "id": "HRHfyzp1z8gf",
        "colab_type": "text"
      },
      "cell_type": "markdown",
      "source": [
        "### III. Models Comparison"
      ]
    },
    {
      "metadata": {
        "id": "7XGb9mUm0Che",
        "colab_type": "code",
        "colab": {}
      },
      "cell_type": "code",
      "source": [
        ""
      ],
      "execution_count": 0,
      "outputs": []
    },
    {
      "metadata": {
        "id": "9APIEEzR0C0D",
        "colab_type": "text"
      },
      "cell_type": "markdown",
      "source": [
        "### IV. Model Application"
      ]
    },
    {
      "metadata": {
        "id": "TAZPxuVD0DFT",
        "colab_type": "code",
        "colab": {}
      },
      "cell_type": "code",
      "source": [
        ""
      ],
      "execution_count": 0,
      "outputs": []
    },
    {
      "metadata": {
        "id": "x5UkQfY70DYl",
        "colab_type": "text"
      },
      "cell_type": "markdown",
      "source": [
        "### V. Complete and Validated Analysis\n"
      ]
    },
    {
      "metadata": {
        "id": "y3JPWRn-0V0A",
        "colab_type": "code",
        "colab": {}
      },
      "cell_type": "code",
      "source": [
        ""
      ],
      "execution_count": 0,
      "outputs": []
    },
    {
      "metadata": {
        "id": "LqqmMZPw0V8h",
        "colab_type": "text"
      },
      "cell_type": "markdown",
      "source": [
        "### VI. Data Visualization"
      ]
    },
    {
      "metadata": {
        "id": "pJezHP800Z6Z",
        "colab_type": "code",
        "colab": {}
      },
      "cell_type": "code",
      "source": [
        ""
      ],
      "execution_count": 0,
      "outputs": []
    }
  ]
}