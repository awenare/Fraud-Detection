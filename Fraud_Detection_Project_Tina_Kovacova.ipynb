{
  "nbformat": 4,
  "nbformat_minor": 0,
  "metadata": {
    "colab": {
      "name": "Fraud Detection Project - Tina Kovacova.ipynb",
      "version": "0.3.2",
      "provenance": [],
      "include_colab_link": true
    },
    "kernelspec": {
      "name": "python3",
      "display_name": "Python 3"
    }
  },
  "cells": [
    {
      "cell_type": "markdown",
      "metadata": {
        "id": "view-in-github",
        "colab_type": "text"
      },
      "source": [
        "[View in Colaboratory](https://colab.research.google.com/github/awenare/Fraud-Detection/blob/master/Fraud_Detection_Project_Tina_Kovacova.ipynb)"
      ]
    },
    {
      "metadata": {
        "id": "CyXVRumJtMgh",
        "colab_type": "text"
      },
      "cell_type": "markdown",
      "source": [
        "## Fraud Detection - Talking Data\n",
        "\n"
      ]
    },
    {
      "metadata": {
        "id": "rGBA4ngXxJL_",
        "colab_type": "text"
      },
      "cell_type": "markdown",
      "source": [
        "### Loading the Dataset & Treating Data"
      ]
    },
    {
      "metadata": {
        "id": "UHmNlT48tEzu",
        "colab_type": "code",
        "colab": {}
      },
      "cell_type": "code",
      "source": [
        ""
      ],
      "execution_count": 0,
      "outputs": []
    },
    {
      "metadata": {
        "id": "N9XrDrdPtMDy",
        "colab_type": "code",
        "colab": {}
      },
      "cell_type": "code",
      "source": [
        ""
      ],
      "execution_count": 0,
      "outputs": []
    }
  ]
}