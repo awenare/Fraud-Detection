{
  "nbformat": 4,
  "nbformat_minor": 0,
  "metadata": {
    "colab": {
      "name": "Fraud Detection Project - Tina Kovacova.ipynb",
      "version": "0.3.2",
      "provenance": [],
      "include_colab_link": true
    },
    "kernelspec": {
      "name": "python3",
      "display_name": "Python 3"
    }
  },
  "cells": [
    {
      "cell_type": "markdown",
      "metadata": {
        "id": "view-in-github",
        "colab_type": "text"
      },
      "source": [
        "[View in Colaboratory](https://colab.research.google.com/github/awenare/Fraud-Detection/blob/master/Fraud_Detection_Project_Tina_Kovacova.ipynb)"
      ]
    },
    {
      "metadata": {
        "id": "CyXVRumJtMgh",
        "colab_type": "text"
      },
      "cell_type": "markdown",
      "source": [
        "## Fraud Detection - Talking Data\n",
        "\n",
        "**Executive Summary: **\n",
        "\n",
        "The objective is to predict whether a user will download an app after clicking a mobile app advertisement, as well as to discover fradulent clicks on ads.\n",
        "\n",
        "\n",
        "**Findings: **\n",
        "\n",
        "\n",
        "**Issues so far: **\n",
        "\n",
        "⚠️ GitHub limits file upload to 100MB\n",
        "\n",
        "⚠️ Git push/pull issues\n",
        "\n",
        "⚠️ How to import dataset directly from HDD to colab?\n",
        "\n",
        "⚠️ Upload to Google Drive (see old tutorials) for the 7+ GB full training data file"
      ]
    },
    {
      "metadata": {
        "id": "rGBA4ngXxJL_",
        "colab_type": "text"
      },
      "cell_type": "markdown",
      "source": [
        "### I. Loading the Dataset & Treating Data"
      ]
    },
    {
      "metadata": {
        "id": "cqCWu4IR2_Mq",
        "colab_type": "code",
        "colab": {}
      },
      "cell_type": "code",
      "source": [
        "import numpy as np\n",
        "import pandas as pd"
      ],
      "execution_count": 0,
      "outputs": []
    },
    {
      "metadata": {
        "id": "UHmNlT48tEzu",
        "colab_type": "code",
        "colab": {}
      },
      "cell_type": "code",
      "source": [
        "data_sample = pd.read_csv('https://raw.githubusercontent.com/awenare/Fraud-Detection/master/train_sample.csv')"
      ],
      "execution_count": 0,
      "outputs": []
    },
    {
      "metadata": {
        "id": "pfplSiDwGSsd",
        "colab_type": "code",
        "colab": {
          "base_uri": "https://localhost:8080/",
          "height": 204
        },
        "outputId": "46f1fd44-5dbd-4958-894a-85d78ff99187"
      },
      "cell_type": "code",
      "source": [
        "data_sample.head(5)"
      ],
      "execution_count": 5,
      "outputs": [
        {
          "output_type": "execute_result",
          "data": {
            "text/html": [
              "<div>\n",
              "<style scoped>\n",
              "    .dataframe tbody tr th:only-of-type {\n",
              "        vertical-align: middle;\n",
              "    }\n",
              "\n",
              "    .dataframe tbody tr th {\n",
              "        vertical-align: top;\n",
              "    }\n",
              "\n",
              "    .dataframe thead th {\n",
              "        text-align: right;\n",
              "    }\n",
              "</style>\n",
              "<table border=\"1\" class=\"dataframe\">\n",
              "  <thead>\n",
              "    <tr style=\"text-align: right;\">\n",
              "      <th></th>\n",
              "      <th>ip</th>\n",
              "      <th>app</th>\n",
              "      <th>device</th>\n",
              "      <th>os</th>\n",
              "      <th>channel</th>\n",
              "      <th>click_time</th>\n",
              "      <th>attributed_time</th>\n",
              "      <th>is_attributed</th>\n",
              "    </tr>\n",
              "  </thead>\n",
              "  <tbody>\n",
              "    <tr>\n",
              "      <th>0</th>\n",
              "      <td>87540</td>\n",
              "      <td>12</td>\n",
              "      <td>1</td>\n",
              "      <td>13</td>\n",
              "      <td>497</td>\n",
              "      <td>2017-11-07 09:30:38</td>\n",
              "      <td>NaN</td>\n",
              "      <td>0</td>\n",
              "    </tr>\n",
              "    <tr>\n",
              "      <th>1</th>\n",
              "      <td>105560</td>\n",
              "      <td>25</td>\n",
              "      <td>1</td>\n",
              "      <td>17</td>\n",
              "      <td>259</td>\n",
              "      <td>2017-11-07 13:40:27</td>\n",
              "      <td>NaN</td>\n",
              "      <td>0</td>\n",
              "    </tr>\n",
              "    <tr>\n",
              "      <th>2</th>\n",
              "      <td>101424</td>\n",
              "      <td>12</td>\n",
              "      <td>1</td>\n",
              "      <td>19</td>\n",
              "      <td>212</td>\n",
              "      <td>2017-11-07 18:05:24</td>\n",
              "      <td>NaN</td>\n",
              "      <td>0</td>\n",
              "    </tr>\n",
              "    <tr>\n",
              "      <th>3</th>\n",
              "      <td>94584</td>\n",
              "      <td>13</td>\n",
              "      <td>1</td>\n",
              "      <td>13</td>\n",
              "      <td>477</td>\n",
              "      <td>2017-11-07 04:58:08</td>\n",
              "      <td>NaN</td>\n",
              "      <td>0</td>\n",
              "    </tr>\n",
              "    <tr>\n",
              "      <th>4</th>\n",
              "      <td>68413</td>\n",
              "      <td>12</td>\n",
              "      <td>1</td>\n",
              "      <td>1</td>\n",
              "      <td>178</td>\n",
              "      <td>2017-11-09 09:00:09</td>\n",
              "      <td>NaN</td>\n",
              "      <td>0</td>\n",
              "    </tr>\n",
              "  </tbody>\n",
              "</table>\n",
              "</div>"
            ],
            "text/plain": [
              "       ip  app  device  os  channel           click_time attributed_time  \\\n",
              "0   87540   12       1  13      497  2017-11-07 09:30:38             NaN   \n",
              "1  105560   25       1  17      259  2017-11-07 13:40:27             NaN   \n",
              "2  101424   12       1  19      212  2017-11-07 18:05:24             NaN   \n",
              "3   94584   13       1  13      477  2017-11-07 04:58:08             NaN   \n",
              "4   68413   12       1   1      178  2017-11-09 09:00:09             NaN   \n",
              "\n",
              "   is_attributed  \n",
              "0              0  \n",
              "1              0  \n",
              "2              0  \n",
              "3              0  \n",
              "4              0  "
            ]
          },
          "metadata": {
            "tags": []
          },
          "execution_count": 5
        }
      ]
    },
    {
      "metadata": {
        "id": "_J_m2fHNGfmZ",
        "colab_type": "code",
        "colab": {
          "base_uri": "https://localhost:8080/",
          "height": 34
        },
        "outputId": "67e6045e-25de-425d-8195-6a345552eefa"
      },
      "cell_type": "code",
      "source": [
        "data_sample.shape"
      ],
      "execution_count": 7,
      "outputs": [
        {
          "output_type": "execute_result",
          "data": {
            "text/plain": [
              "(100000, 8)"
            ]
          },
          "metadata": {
            "tags": []
          },
          "execution_count": 7
        }
      ]
    },
    {
      "metadata": {
        "id": "nGZUNji1Ha2E",
        "colab_type": "text"
      },
      "cell_type": "markdown",
      "source": [
        "#### Data Cleanup"
      ]
    },
    {
      "metadata": {
        "id": "WVTzHp7GHdWl",
        "colab_type": "code",
        "colab": {}
      },
      "cell_type": "code",
      "source": [
        ""
      ],
      "execution_count": 0,
      "outputs": []
    },
    {
      "metadata": {
        "id": "VOuJTWF3z4DJ",
        "colab_type": "text"
      },
      "cell_type": "markdown",
      "source": [
        "### II. Fitting Initial Baseline Model"
      ]
    },
    {
      "metadata": {
        "id": "N9XrDrdPtMDy",
        "colab_type": "code",
        "colab": {}
      },
      "cell_type": "code",
      "source": [
        ""
      ],
      "execution_count": 0,
      "outputs": []
    },
    {
      "metadata": {
        "id": "HRHfyzp1z8gf",
        "colab_type": "text"
      },
      "cell_type": "markdown",
      "source": [
        "### III. Models Comparison"
      ]
    },
    {
      "metadata": {
        "id": "7XGb9mUm0Che",
        "colab_type": "code",
        "colab": {}
      },
      "cell_type": "code",
      "source": [
        ""
      ],
      "execution_count": 0,
      "outputs": []
    },
    {
      "metadata": {
        "id": "9APIEEzR0C0D",
        "colab_type": "text"
      },
      "cell_type": "markdown",
      "source": [
        "### IV. Model Application"
      ]
    },
    {
      "metadata": {
        "id": "TAZPxuVD0DFT",
        "colab_type": "code",
        "colab": {}
      },
      "cell_type": "code",
      "source": [
        ""
      ],
      "execution_count": 0,
      "outputs": []
    },
    {
      "metadata": {
        "id": "x5UkQfY70DYl",
        "colab_type": "text"
      },
      "cell_type": "markdown",
      "source": [
        "### V. Complete and Validated Analysis\n"
      ]
    },
    {
      "metadata": {
        "id": "y3JPWRn-0V0A",
        "colab_type": "code",
        "colab": {}
      },
      "cell_type": "code",
      "source": [
        ""
      ],
      "execution_count": 0,
      "outputs": []
    },
    {
      "metadata": {
        "id": "LqqmMZPw0V8h",
        "colab_type": "text"
      },
      "cell_type": "markdown",
      "source": [
        "### VI. Data Visualization"
      ]
    },
    {
      "metadata": {
        "id": "pJezHP800Z6Z",
        "colab_type": "code",
        "colab": {}
      },
      "cell_type": "code",
      "source": [
        ""
      ],
      "execution_count": 0,
      "outputs": []
    }
  ]
}